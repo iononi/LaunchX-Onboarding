{
 "cells": [
  {
   "cell_type": "markdown",
   "metadata": {},
   "source": [
    "## Ejercicio 1: Crear y usar listas de Python\n",
    "En este ejercicio usaremos listas de Python para almacenar planetas."
   ]
  },
  {
   "cell_type": "code",
   "execution_count": 6,
   "metadata": {},
   "outputs": [
    {
     "name": "stdout",
     "output_type": "stream",
     "text": [
      "Current elements in planet list: 8\n",
      "Current elements in planet list after inserting Pluto: 9\n",
      "Last element inserted: Pluto\n"
     ]
    }
   ],
   "source": [
    "planets = ['Mercury', 'Venus', 'Earth', 'Mars', 'Jupiter', 'Saturn', 'Uranus', 'Neptune']\n",
    "\n",
    "print(f'Current elements in planet list: {len(planets)}')\n",
    "planets.append('Pluto') # add Pluto to planet list\n",
    "print(f'Current elements in planet list after inserting Pluto: {len(planets)}')\n",
    "print(f'Last element inserted: {planets[-1]}') # print the last element of list planets"
   ]
  },
  {
   "cell_type": "markdown",
   "metadata": {},
   "source": [
    "## Ejercicio 2: Trabajando con datos de una lista"
   ]
  },
  {
   "cell_type": "code",
   "execution_count": 11,
   "metadata": {},
   "outputs": [
    {
     "name": "stdout",
     "output_type": "stream",
     "text": [
      "Oops! We could not find the planet you were looking for :(\n"
     ]
    }
   ],
   "source": [
    "planets = ['Mercury', 'Venus', 'Earth', 'Mars', 'Jupiter', 'Saturn', 'Uranus', 'Neptune']\n",
    "\n",
    "planet = input('Type the planet name you like the most: ').capitalize()\n",
    "\n",
    "try:\n",
    "    planet_index = planets.index(planet)\n",
    "    print(f'Closest planets to {planet}: {planets[:planet_index]}')\n",
    "    print(f'Furthest planets to {planet}: {planets[planet_index + 1:]}')\n",
    "except ValueError:\n",
    "    print('Oops! We could not find the planet you were looking for :(')"
   ]
  }
 ],
 "metadata": {
  "interpreter": {
   "hash": "d1923312bdd1ecdaed4c03ef9f030b61bfc0be630f081d4aef47785cf6a28ea0"
  },
  "kernelspec": {
   "display_name": "Python 3.9.9 64-bit",
   "language": "python",
   "name": "python3"
  },
  "language_info": {
   "codemirror_mode": {
    "name": "ipython",
    "version": 3
   },
   "file_extension": ".py",
   "mimetype": "text/x-python",
   "name": "python",
   "nbconvert_exporter": "python",
   "pygments_lexer": "ipython3",
   "version": "3.9.9"
  },
  "orig_nbformat": 4
 },
 "nbformat": 4,
 "nbformat_minor": 2
}

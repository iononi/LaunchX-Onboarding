{
 "cells": [
  {
   "cell_type": "markdown",
   "metadata": {},
   "source": [
    "## Calcular distancias entre planetas\n",
    "Este programa calcula la distancia entre dos planetas dados. Para ello, se pide al usuario ingresar\n",
    "la distancia de cada planeta con respecto del Sol para posteriormente calcular la distancia entre ellos."
   ]
  },
  {
   "cell_type": "code",
   "execution_count": 6,
   "metadata": {},
   "outputs": [
    {
     "name": "stdout",
     "output_type": "stream",
     "text": [
      "Distance between planets\n",
      "In kilometers: 628949330 km\n",
      "In miles: 390577533.93 mi\n"
     ]
    }
   ],
   "source": [
    "planet1 = 149597870\n",
    "planet2 = 778547200\n",
    "\n",
    "distance_in_km, distance_in_miles = planet2 - planet1, (planet2 - planet1) * 0.621\n",
    "\n",
    "print(f'''Distance between planets\n",
    "In kilometers: {distance_in_km} km\n",
    "In miles: {distance_in_miles} mi''')"
   ]
  },
  {
   "cell_type": "markdown",
   "metadata": {},
   "source": [
    "## Ejercicio 2: convierte cadenas en números y usa valores absolutos\n",
    "Esta sección presenta el código anterior modificado para hacer el programa más dinámico, permitiendo al usuario ingresar las distancias.\n",
    "Puede usar la siguiente tabla de valores para probar el programa:\n",
    "\n",
    "| Planeta   |  Distancia al Sol |\n",
    "|-----------|------------------\n",
    "| Mercurio  |  57900000        |\n",
    "| Venus     |  108200000       |\n",
    "| Tierra    |  149600000       |\n",
    "| Marte     |  227900000       |\n",
    "| Júpiter   |  778600000       |\n",
    "| Saturno   |  1433500000      |\n",
    "| Urano     |  2872500000      |\n",
    "| Neptuno   |  4495100000      |"
   ]
  },
  {
   "cell_type": "code",
   "execution_count": 7,
   "metadata": {},
   "outputs": [
    {
     "name": "stdout",
     "output_type": "stream",
     "text": [
      "Distance between planets\n",
      "In kilometers: 628949330.0 km\n",
      "In miles: 390577533.93 mi\n"
     ]
    }
   ],
   "source": [
    "planet1 = float(input('Type the first planet distance to sun: ').replace(',', ''))\n",
    "planet2 = float(input('Type the second planet distance to sun: ').replace(',', ''))\n",
    "\n",
    "distance_in_km = abs(planet1 - planet2)\n",
    "distance_in_miles = distance_in_km * 0.621\n",
    "\n",
    "print(f'''Distance between planets\n",
    "In kilometers: {distance_in_km} km\n",
    "In miles: {distance_in_miles} mi''')"
   ]
  }
 ],
 "metadata": {
  "interpreter": {
   "hash": "d1923312bdd1ecdaed4c03ef9f030b61bfc0be630f081d4aef47785cf6a28ea0"
  },
  "kernelspec": {
   "display_name": "Python 3.9.9 64-bit",
   "language": "python",
   "name": "python3"
  },
  "language_info": {
   "codemirror_mode": {
    "name": "ipython",
    "version": 3
   },
   "file_extension": ".py",
   "mimetype": "text/x-python",
   "name": "python",
   "nbconvert_exporter": "python",
   "pygments_lexer": "ipython3",
   "version": "3.9.9"
  },
  "orig_nbformat": 4
 },
 "nbformat": 4,
 "nbformat_minor": 2
}

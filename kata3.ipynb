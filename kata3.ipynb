{
 "cells": [
  {
   "cell_type": "markdown",
   "metadata": {},
   "source": [
    "## Advertencia sobre asteroide\n",
    "Programa que muestra un mensaje de advertencia si un asteroide se acerca a la Tierra con una velocidad\n",
    "superior a 25 km/s"
   ]
  },
  {
   "cell_type": "code",
   "execution_count": 1,
   "metadata": {},
   "outputs": [
    {
     "name": "stdout",
     "output_type": "stream",
     "text": [
      "ADVERTENCIA!\n"
     ]
    }
   ],
   "source": [
    "vel_asteroide = 49 # unidades en kilometros/segundos\n",
    "\n",
    "if (vel_asteroide > 25):\n",
    "    print(\"ADVERTENCIA!\")\n",
    "else:\n",
    "    print(\"Todo esta bien\")"
   ]
  },
  {
   "cell_type": "markdown",
   "metadata": {},
   "source": [
    "## Asteoride con rayo\n",
    "Programa que indica si podrá verse un asteroide que produzca un rayo"
   ]
  },
  {
   "cell_type": "code",
   "execution_count": 2,
   "metadata": {},
   "outputs": [
    {
     "name": "stdout",
     "output_type": "stream",
     "text": [
      "No se puede ver el asteroide desde la Tierra :C\n"
     ]
    }
   ],
   "source": [
    "vel_asteroide = 19\n",
    "\n",
    "if (vel_asteroide >= 20):\n",
    "    print(\"Se puede ver el asteroide con rayo de luz desde la Tierra!\")\n",
    "else:\n",
    "    print(\"No se puede ver el asteroide desde la Tierra :C\")"
   ]
  },
  {
   "cell_type": "markdown",
   "metadata": {},
   "source": [
    "## Programa para aletar y calcular si un asteroide es amenaza para la Tierra\n",
    "Este programa alerta a la gente de la Tierra si se acerca un asteroide que represente una amenaza, según\n",
    "su tamaño y velocidad"
   ]
  },
  {
   "cell_type": "code",
   "execution_count": 7,
   "metadata": {},
   "outputs": [
    {
     "name": "stdout",
     "output_type": "stream",
     "text": [
      "Advertencia! Se acerca un asteroide grande!\n",
      "Se vera un rayo desde la Tierra\n"
     ]
    }
   ],
   "source": [
    "size = int(input(\"Ingrese el tamaño del asteroide\"))\n",
    "speed = int(input(\"Ingrese la velocidad del asteroide\"))\n",
    "if size < 25 and speed < 25:\n",
    "    print(\"¡Todo bien!\")\n",
    "elif size >= 25 and size < 1000:\n",
    "    print(\"Advertencia! Se acerca un asteroide grande!\")\n",
    "    if speed > 25:\n",
    "        print(\"El asteroide se acerca a velocidades peligrosas!\")\n",
    "if speed >= 20:\n",
    "    print(\"Se vera un rayo desde la Tierra\")"
   ]
  }
 ],
 "metadata": {
  "interpreter": {
   "hash": "d1923312bdd1ecdaed4c03ef9f030b61bfc0be630f081d4aef47785cf6a28ea0"
  },
  "kernelspec": {
   "display_name": "Python 3.9.9 64-bit",
   "language": "python",
   "name": "python3"
  },
  "language_info": {
   "codemirror_mode": {
    "name": "ipython",
    "version": 3
   },
   "file_extension": ".py",
   "mimetype": "text/x-python",
   "name": "python",
   "nbconvert_exporter": "python",
   "pygments_lexer": "ipython3",
   "version": "3.9.9"
  },
  "orig_nbformat": 4
 },
 "nbformat": 4,
 "nbformat_minor": 2
}
